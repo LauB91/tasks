{
 "cells": [
  {
   "cell_type": "markdown",
   "id": "4e7b8a85-0408-44e6-818e-11e44928289d",
   "metadata": {},
   "source": [
    "# Code Challenge Senior Data Analyst"
   ]
  },
  {
   "cell_type": "markdown",
   "id": "7fdc8f90-ade2-4ebf-94a5-23a27f1b3a2d",
   "metadata": {},
   "source": [
    "## Exploratory Analysis"
   ]
  },
  {
   "cell_type": "markdown",
   "id": "1d3ed030-6a47-4b26-b2b7-4315abc3613d",
   "metadata": {},
   "source": [
    "### Imports"
   ]
  },
  {
   "cell_type": "code",
   "execution_count": 1,
   "id": "a562f372-bdfa-4b4c-966c-6d01b7ffb763",
   "metadata": {},
   "outputs": [],
   "source": [
    "%load_ext autoreload\n",
    "%autoreload 2\n",
    "\n",
    "import os\n",
    "import json\n",
    "import pandas as pd\n",
    "from statistics import mean \n",
    "import matplotlib.pyplot as plt\n",
    "import seaborn as sns"
   ]
  },
  {
   "cell_type": "markdown",
   "id": "712202b1-8506-4264-a68a-529dd1ae7731",
   "metadata": {},
   "source": [
    "### Read file"
   ]
  },
  {
   "cell_type": "code",
   "execution_count": 2,
   "id": "ab5f43b8-0e04-4c4c-a191-8541954a55f3",
   "metadata": {},
   "outputs": [],
   "source": [
    "#let's create a dataframe from the file, to explore the data\n",
    "path = os.getcwd()\n",
    "df_ratings = pd.read_json(os.path.join(path, 'rating_per_user.json'), lines=True)"
   ]
  },
  {
   "cell_type": "code",
   "execution_count": 3,
   "id": "af99c2c5-dc6c-4e63-81c0-71971a16daf5",
   "metadata": {},
   "outputs": [
    {
     "data": {
      "text/html": [
       "<div>\n",
       "<style scoped>\n",
       "    .dataframe tbody tr th:only-of-type {\n",
       "        vertical-align: middle;\n",
       "    }\n",
       "\n",
       "    .dataframe tbody tr th {\n",
       "        vertical-align: top;\n",
       "    }\n",
       "\n",
       "    .dataframe thead th {\n",
       "        text-align: right;\n",
       "    }\n",
       "</style>\n",
       "<table border=\"1\" class=\"dataframe\">\n",
       "  <thead>\n",
       "    <tr style=\"text-align: right;\">\n",
       "      <th></th>\n",
       "      <th>ratingType</th>\n",
       "      <th>ratings</th>\n",
       "      <th>ratings_date</th>\n",
       "      <th>nof_reviews</th>\n",
       "    </tr>\n",
       "  </thead>\n",
       "  <tbody>\n",
       "    <tr>\n",
       "      <th>0</th>\n",
       "      <td>SellerToBuyer</td>\n",
       "      <td>[5.0, 5.0, 5.0, 5.0, 5.0, 5.0, 5.0, 5.0, 5.0, ...</td>\n",
       "      <td>[2021-01-27, 2021-01-13, 2021-01-13, 2021-02-0...</td>\n",
       "      <td>86</td>\n",
       "    </tr>\n",
       "    <tr>\n",
       "      <th>1</th>\n",
       "      <td>BuyerToSeller</td>\n",
       "      <td>[5.0, 5.0, 5.0, 5.0, 5.0, 5.0, 5.0, 5.0, 5.0, ...</td>\n",
       "      <td>[2021-01-09, 2021-01-09, 2021-01-09, 2021-01-0...</td>\n",
       "      <td>85</td>\n",
       "    </tr>\n",
       "    <tr>\n",
       "      <th>2</th>\n",
       "      <td>BuyerToSeller</td>\n",
       "      <td>[5.0, 5.0, 5.0, 5.0, 5.0, 5.0, 5.0, 5.0, 5.0, ...</td>\n",
       "      <td>[2021-01-01, 2021-01-01, 2021-01-20, 2021-01-2...</td>\n",
       "      <td>29</td>\n",
       "    </tr>\n",
       "    <tr>\n",
       "      <th>3</th>\n",
       "      <td>SellerToBuyer</td>\n",
       "      <td>[5.0, 5.0, 5.0, 5.0, 5.0, 5.0, 5.0, 5.0, 5.0, ...</td>\n",
       "      <td>[2021-01-31, 2021-01-31, 2021-01-31, 2021-01-1...</td>\n",
       "      <td>28</td>\n",
       "    </tr>\n",
       "    <tr>\n",
       "      <th>4</th>\n",
       "      <td>BuyerToSeller</td>\n",
       "      <td>[5.0, 5.0, 5.0, 5.0, 5.0, 5.0, 5.0, 5.0, 5.0, ...</td>\n",
       "      <td>[2021-01-22, 2021-01-22, 2021-01-22, 2021-01-2...</td>\n",
       "      <td>24</td>\n",
       "    </tr>\n",
       "  </tbody>\n",
       "</table>\n",
       "</div>"
      ],
      "text/plain": [
       "      ratingType                                            ratings  \\\n",
       "0  SellerToBuyer  [5.0, 5.0, 5.0, 5.0, 5.0, 5.0, 5.0, 5.0, 5.0, ...   \n",
       "1  BuyerToSeller  [5.0, 5.0, 5.0, 5.0, 5.0, 5.0, 5.0, 5.0, 5.0, ...   \n",
       "2  BuyerToSeller  [5.0, 5.0, 5.0, 5.0, 5.0, 5.0, 5.0, 5.0, 5.0, ...   \n",
       "3  SellerToBuyer  [5.0, 5.0, 5.0, 5.0, 5.0, 5.0, 5.0, 5.0, 5.0, ...   \n",
       "4  BuyerToSeller  [5.0, 5.0, 5.0, 5.0, 5.0, 5.0, 5.0, 5.0, 5.0, ...   \n",
       "\n",
       "                                        ratings_date  nof_reviews  \n",
       "0  [2021-01-27, 2021-01-13, 2021-01-13, 2021-02-0...           86  \n",
       "1  [2021-01-09, 2021-01-09, 2021-01-09, 2021-01-0...           85  \n",
       "2  [2021-01-01, 2021-01-01, 2021-01-20, 2021-01-2...           29  \n",
       "3  [2021-01-31, 2021-01-31, 2021-01-31, 2021-01-1...           28  \n",
       "4  [2021-01-22, 2021-01-22, 2021-01-22, 2021-01-2...           24  "
      ]
     },
     "execution_count": 3,
     "metadata": {},
     "output_type": "execute_result"
    }
   ],
   "source": [
    "#let's check what the data look like!\n",
    "df_ratings.head()"
   ]
  },
  {
   "cell_type": "code",
   "execution_count": 4,
   "id": "c7939267-8d9a-499f-ba84-85693689a79b",
   "metadata": {},
   "outputs": [
    {
     "name": "stdout",
     "output_type": "stream",
     "text": [
      "<class 'pandas.core.frame.DataFrame'>\n",
      "RangeIndex: 206396 entries, 0 to 206395\n",
      "Data columns (total 4 columns):\n",
      " #   Column        Non-Null Count   Dtype \n",
      "---  ------        --------------   ----- \n",
      " 0   ratingType    206396 non-null  object\n",
      " 1   ratings       206396 non-null  object\n",
      " 2   ratings_date  206396 non-null  object\n",
      " 3   nof_reviews   206396 non-null  int64 \n",
      "dtypes: int64(1), object(3)\n",
      "memory usage: 6.3+ MB\n"
     ]
    }
   ],
   "source": [
    "#We assume that each line is a different user, let's have a quick check on our date\n",
    "df_ratings.info()"
   ]
  },
  {
   "cell_type": "code",
   "execution_count": 5,
   "id": "6a5794da-9c11-4364-8dfc-6ee1bfeafcdb",
   "metadata": {},
   "outputs": [
    {
     "data": {
      "text/html": [
       "<div>\n",
       "<style scoped>\n",
       "    .dataframe tbody tr th:only-of-type {\n",
       "        vertical-align: middle;\n",
       "    }\n",
       "\n",
       "    .dataframe tbody tr th {\n",
       "        vertical-align: top;\n",
       "    }\n",
       "\n",
       "    .dataframe thead th {\n",
       "        text-align: right;\n",
       "    }\n",
       "</style>\n",
       "<table border=\"1\" class=\"dataframe\">\n",
       "  <thead>\n",
       "    <tr style=\"text-align: right;\">\n",
       "      <th></th>\n",
       "      <th>nof_reviews</th>\n",
       "    </tr>\n",
       "  </thead>\n",
       "  <tbody>\n",
       "    <tr>\n",
       "      <th>count</th>\n",
       "      <td>206396.000000</td>\n",
       "    </tr>\n",
       "    <tr>\n",
       "      <th>mean</th>\n",
       "      <td>1.038431</td>\n",
       "    </tr>\n",
       "    <tr>\n",
       "      <th>std</th>\n",
       "      <td>0.435590</td>\n",
       "    </tr>\n",
       "    <tr>\n",
       "      <th>min</th>\n",
       "      <td>1.000000</td>\n",
       "    </tr>\n",
       "    <tr>\n",
       "      <th>25%</th>\n",
       "      <td>1.000000</td>\n",
       "    </tr>\n",
       "    <tr>\n",
       "      <th>50%</th>\n",
       "      <td>1.000000</td>\n",
       "    </tr>\n",
       "    <tr>\n",
       "      <th>75%</th>\n",
       "      <td>1.000000</td>\n",
       "    </tr>\n",
       "    <tr>\n",
       "      <th>max</th>\n",
       "      <td>86.000000</td>\n",
       "    </tr>\n",
       "  </tbody>\n",
       "</table>\n",
       "</div>"
      ],
      "text/plain": [
       "         nof_reviews\n",
       "count  206396.000000\n",
       "mean        1.038431\n",
       "std         0.435590\n",
       "min         1.000000\n",
       "25%         1.000000\n",
       "50%         1.000000\n",
       "75%         1.000000\n",
       "max        86.000000"
      ]
     },
     "execution_count": 5,
     "metadata": {},
     "output_type": "execute_result"
    }
   ],
   "source": [
    "# Getting more info on our data, it might be useful later\n",
    "df_ratings.describe()"
   ]
  },
  {
   "cell_type": "code",
   "execution_count": 6,
   "id": "48d7aa3b-46e1-4d0c-9b50-dedf3bd8a1e8",
   "metadata": {},
   "outputs": [
    {
     "data": {
      "text/html": [
       "<div>\n",
       "<style scoped>\n",
       "    .dataframe tbody tr th:only-of-type {\n",
       "        vertical-align: middle;\n",
       "    }\n",
       "\n",
       "    .dataframe tbody tr th {\n",
       "        vertical-align: top;\n",
       "    }\n",
       "\n",
       "    .dataframe thead th {\n",
       "        text-align: right;\n",
       "    }\n",
       "</style>\n",
       "<table border=\"1\" class=\"dataframe\">\n",
       "  <thead>\n",
       "    <tr style=\"text-align: right;\">\n",
       "      <th></th>\n",
       "      <th>nof_reviews</th>\n",
       "    </tr>\n",
       "  </thead>\n",
       "  <tbody>\n",
       "    <tr>\n",
       "      <th>count</th>\n",
       "      <td>124552.000000</td>\n",
       "    </tr>\n",
       "    <tr>\n",
       "      <th>mean</th>\n",
       "      <td>1.038891</td>\n",
       "    </tr>\n",
       "    <tr>\n",
       "      <th>std</th>\n",
       "      <td>0.412174</td>\n",
       "    </tr>\n",
       "    <tr>\n",
       "      <th>min</th>\n",
       "      <td>1.000000</td>\n",
       "    </tr>\n",
       "    <tr>\n",
       "      <th>25%</th>\n",
       "      <td>1.000000</td>\n",
       "    </tr>\n",
       "    <tr>\n",
       "      <th>50%</th>\n",
       "      <td>1.000000</td>\n",
       "    </tr>\n",
       "    <tr>\n",
       "      <th>75%</th>\n",
       "      <td>1.000000</td>\n",
       "    </tr>\n",
       "    <tr>\n",
       "      <th>max</th>\n",
       "      <td>86.000000</td>\n",
       "    </tr>\n",
       "  </tbody>\n",
       "</table>\n",
       "</div>"
      ],
      "text/plain": [
       "         nof_reviews\n",
       "count  124552.000000\n",
       "mean        1.038891\n",
       "std         0.412174\n",
       "min         1.000000\n",
       "25%         1.000000\n",
       "50%         1.000000\n",
       "75%         1.000000\n",
       "max        86.000000"
      ]
     },
     "execution_count": 6,
     "metadata": {},
     "output_type": "execute_result"
    }
   ],
   "source": [
    "# Checking how the type of rating influence the basic metrics\n",
    "df_ratings[df_ratings[\"ratingType\"] == 'SellerToBuyer'].describe()"
   ]
  },
  {
   "cell_type": "code",
   "execution_count": 7,
   "id": "372ee75d-edf5-4c24-bda4-cff8b2ad41a0",
   "metadata": {},
   "outputs": [
    {
     "data": {
      "text/html": [
       "<div>\n",
       "<style scoped>\n",
       "    .dataframe tbody tr th:only-of-type {\n",
       "        vertical-align: middle;\n",
       "    }\n",
       "\n",
       "    .dataframe tbody tr th {\n",
       "        vertical-align: top;\n",
       "    }\n",
       "\n",
       "    .dataframe thead th {\n",
       "        text-align: right;\n",
       "    }\n",
       "</style>\n",
       "<table border=\"1\" class=\"dataframe\">\n",
       "  <thead>\n",
       "    <tr style=\"text-align: right;\">\n",
       "      <th></th>\n",
       "      <th>nof_reviews</th>\n",
       "    </tr>\n",
       "  </thead>\n",
       "  <tbody>\n",
       "    <tr>\n",
       "      <th>count</th>\n",
       "      <td>81844.00000</td>\n",
       "    </tr>\n",
       "    <tr>\n",
       "      <th>mean</th>\n",
       "      <td>1.03773</td>\n",
       "    </tr>\n",
       "    <tr>\n",
       "      <th>std</th>\n",
       "      <td>0.46899</td>\n",
       "    </tr>\n",
       "    <tr>\n",
       "      <th>min</th>\n",
       "      <td>1.00000</td>\n",
       "    </tr>\n",
       "    <tr>\n",
       "      <th>25%</th>\n",
       "      <td>1.00000</td>\n",
       "    </tr>\n",
       "    <tr>\n",
       "      <th>50%</th>\n",
       "      <td>1.00000</td>\n",
       "    </tr>\n",
       "    <tr>\n",
       "      <th>75%</th>\n",
       "      <td>1.00000</td>\n",
       "    </tr>\n",
       "    <tr>\n",
       "      <th>max</th>\n",
       "      <td>85.00000</td>\n",
       "    </tr>\n",
       "  </tbody>\n",
       "</table>\n",
       "</div>"
      ],
      "text/plain": [
       "       nof_reviews\n",
       "count  81844.00000\n",
       "mean       1.03773\n",
       "std        0.46899\n",
       "min        1.00000\n",
       "25%        1.00000\n",
       "50%        1.00000\n",
       "75%        1.00000\n",
       "max       85.00000"
      ]
     },
     "execution_count": 7,
     "metadata": {},
     "output_type": "execute_result"
    }
   ],
   "source": [
    "df_ratings[(df_ratings[\"ratingType\"] == 'BuyerToSeller')].describe()"
   ]
  },
  {
   "cell_type": "markdown",
   "id": "6007b14d-f57d-4e59-a6b7-4689cb79e830",
   "metadata": {},
   "source": [
    "##  What is the period where these ratings were collected?"
   ]
  },
  {
   "cell_type": "code",
   "execution_count": 8,
   "id": "40938da5-02d7-4056-b4d4-fb20aa03e39e",
   "metadata": {},
   "outputs": [],
   "source": [
    "#adding two columns to the dataframe to extract the first and last review date per user\n",
    "\n",
    "df_ratings['date_min'] = df_ratings.ratings_date.apply(lambda x: min(x))\n",
    "df_ratings['date_max'] = df_ratings.ratings_date.apply(lambda x: max(x))"
   ]
  },
  {
   "cell_type": "code",
   "execution_count": 9,
   "id": "73e5cef5-55d7-47e2-a5d0-1d6bce00ba25",
   "metadata": {},
   "outputs": [
    {
     "data": {
      "text/plain": [
       "('2021-01-01',\n",
       " '2021-02-14',\n",
       " '2021-01-01',\n",
       " '2021-02-14',\n",
       " '2021-01-01',\n",
       " '2021-02-14')"
      ]
     },
     "execution_count": 9,
     "metadata": {},
     "output_type": "execute_result"
    }
   ],
   "source": [
    "# extracting the first and and last rating dates overall and checking them for the SellerToBuyer and BuyerToSeller groups\n",
    "\n",
    "overall_min = min(df_ratings['date_min'])\n",
    "overall_max = max(df_ratings['date_max'])\n",
    "\n",
    "stb_min = min(df_ratings[df_ratings[\"ratingType\"] == 'SellerToBuyer']['date_min'])\n",
    "stb_max = max(df_ratings[df_ratings[\"ratingType\"] == 'SellerToBuyer']['date_max'])\n",
    "\n",
    "bts_min = min(df_ratings[df_ratings[\"ratingType\"] == 'BuyerToSeller']['date_min'])\n",
    "bts_max = max(df_ratings[df_ratings[\"ratingType\"] == 'BuyerToSeller']['date_max'])\n",
    "\n",
    "\n",
    "overall_min, overall_max , stb_min, stb_max, bts_min, bts_max"
   ]
  },
  {
   "cell_type": "code",
   "execution_count": 10,
   "id": "9825aad5-1685-4ecd-beca-8acd704676f6",
   "metadata": {},
   "outputs": [
    {
     "data": {
      "image/png": "[encoded data removed]",
      "text/plain": [
       "<Figure size 1080x720 with 1 Axes>"
      ]
     },
     "metadata": {
      "needs_background": "light"
     },
     "output_type": "display_data"
    }
   ],
   "source": [
    "#plotting the number of reviews over time and comparing the SellerToBuyer and BuyerToSeller groups\n",
    "\n",
    "plt.figure(figsize=(15,10))\n",
    "plt.title('number of reviews by date and type')\n",
    "ax1= pd.Series([x for item in df_ratings[df_ratings[\"ratingType\"] == 'SellerToBuyer'].ratings_date for x in item])\\\n",
    "    .value_counts().sort_index().plot(color='blue', grid=True, label='SellerToBuyer')\n",
    "ax2 = pd.Series([x for item in df_ratings[df_ratings[\"ratingType\"] == 'BuyerToSeller'].ratings_date for x in item])\\\n",
    "    .value_counts().sort_index().plot(color='red', grid=True, label='BuyerToSeller')\n",
    "ax3 = pd.Series([x for item in df_ratings.ratings_date for x in item])\\\n",
    "    .value_counts().sort_index().plot(color='grey', grid=True, label='Overall')\n",
    "h1, l1 = ax1.get_legend_handles_labels()\n",
    "\n",
    "\n",
    "plt.legend(h1, l1, loc=4)\n",
    "plt.show()"
   ]
  },
  {
   "cell_type": "markdown",
   "id": "f0741d06-3eb0-488a-83f1-ef7b03c2fd8c",
   "metadata": {},
   "source": [
    "## What is the distribution of the number of received ratings per user?"
   ]
  },
  {
   "cell_type": "code",
   "execution_count": 11,
   "id": "7e32ceed-613e-48ee-922b-9f35bb38fb4b",
   "metadata": {},
   "outputs": [
    {
     "data": {
      "image/png": "[encoded data removed]",
      "text/plain": [
       "<Figure size 360x360 with 1 Axes>"
      ]
     },
     "metadata": {
      "needs_background": "light"
     },
     "output_type": "display_data"
    }
   ],
   "source": [
    "# checking the outliers\n",
    "sns.catplot( data=df_ratings, kind=\"box\");"
   ]
  },
  {
   "cell_type": "markdown",
   "id": "910e1ec3-e731-486d-9b1d-a51021378c35",
   "metadata": {},
   "source": [
    "Two users have a significantly higher number of ratings (85 and 86), we can consider them as outliers."
   ]
  },
  {
   "cell_type": "code",
   "execution_count": 12,
   "id": "fd3cd7c8-6e6f-479f-8a05-bab78cfd9224",
   "metadata": {},
   "outputs": [
    {
     "data": {
      "text/plain": [
       "1     0.974646\n",
       "2     0.020228\n",
       "3     0.002888\n",
       "4     0.000935\n",
       "5     0.000397\n",
       "6     0.000247\n",
       "7     0.000203\n",
       "8     0.000160\n",
       "10    0.000063\n",
       "9     0.000058\n",
       "Name: nof_reviews, dtype: float64"
      ]
     },
     "execution_count": 12,
     "metadata": {},
     "output_type": "execute_result"
    }
   ],
   "source": [
    "# checking the distribution of the number of ratings shows that 97% of the users receive only one ratings\n",
    "df_ratings['nof_reviews'].value_counts(normalize=True).head(10)"
   ]
  },
  {
   "cell_type": "code",
   "execution_count": 13,
   "id": "053ce726-2231-4b82-aa03-6482b9b88274",
   "metadata": {},
   "outputs": [
    {
     "data": {
      "text/plain": [
       "1     0.973232\n",
       "2     0.021710\n",
       "3     0.003011\n",
       "4     0.000859\n",
       "5     0.000377\n",
       "6     0.000233\n",
       "7     0.000177\n",
       "8     0.000145\n",
       "10    0.000056\n",
       "9     0.000048\n",
       "Name: nof_reviews, dtype: float64"
      ]
     },
     "execution_count": 13,
     "metadata": {},
     "output_type": "execute_result"
    }
   ],
   "source": [
    "# checking the distribution of the number of ratings for each group\n",
    "df_ratings[df_ratings['ratingType'] == 'SellerToBuyer'].nof_reviews.value_counts(normalize=True).head(10)"
   ]
  },
  {
   "cell_type": "code",
   "execution_count": 14,
   "id": "6773f44c-67c2-44a6-9b60-85505a35bb49",
   "metadata": {},
   "outputs": [
    {
     "data": {
      "text/plain": [
       "1     0.976797\n",
       "2     0.017973\n",
       "3     0.002700\n",
       "4     0.001051\n",
       "5     0.000428\n",
       "6     0.000269\n",
       "7     0.000244\n",
       "8     0.000183\n",
       "9     0.000073\n",
       "10    0.000073\n",
       "Name: nof_reviews, dtype: float64"
      ]
     },
     "execution_count": 14,
     "metadata": {},
     "output_type": "execute_result"
    }
   ],
   "source": [
    "df_ratings[df_ratings['ratingType'] == 'BuyerToSeller'].nof_reviews.value_counts(normalize=True).head(10)"
   ]
  },
  {
   "cell_type": "code",
   "execution_count": 15,
   "id": "06540bbb-3c5e-4dda-a09e-3b69c3b3ed6c",
   "metadata": {},
   "outputs": [
    {
     "data": {
      "image/png": "[encoded data removed]",
      "text/plain": [
       "<Figure size 1800x720 with 2 Axes>"
      ]
     },
     "metadata": {
      "needs_background": "light"
     },
     "output_type": "display_data"
    }
   ],
   "source": [
    "## plotting the distributions \n",
    "plt.figure(figsize=(25, 10))\n",
    "\n",
    "plt.subplot(1, 2, 1)\n",
    "plt.title('# of review - distribution')\n",
    "sns.countplot(x=df_ratings.nof_reviews, data=df_ratings);\n",
    "\n",
    "plt.subplot(1, 2, 2)\n",
    "plt.title('# of review by type -  distribution')\n",
    "sns.countplot(x=df_ratings.nof_reviews, hue=\"ratingType\", data=df_ratings )\n",
    "plt.legend( loc=4);\n",
    "\n",
    "#plt.subplot(1, 3, 3)\n",
    "#ax = sns.histplot(x=df_ratings.nof_reviews, hue=\"ratingType\",  data=df_ratings ,multiple=\"dodge\", \n",
    "#                  stat = 'density', shrink = 0.8, common_norm=False)\n"
   ]
  },
  {
   "cell_type": "markdown",
   "id": "b4ae97fb-8ad7-40ce-94e0-0bb1613fc05e",
   "metadata": {},
   "source": [
    "The majority of users (97%) have only one rating and 2% of the users have 2 ratings.  \n",
    "The distribution is highly skewed to the right (positive skew). Both groups (SellerToBuyer and BuyerToSeller) have a similar distribution"
   ]
  },
  {
   "cell_type": "markdown",
   "id": "c1f532d6-446d-46e9-b448-ad782f4d364f",
   "metadata": {},
   "source": [
    "### What is the average of the rating value?"
   ]
  },
  {
   "cell_type": "code",
   "execution_count": 16,
   "id": "d50d2957-a4ab-4c93-95fc-85daa50e67bd",
   "metadata": {},
   "outputs": [],
   "source": [
    "# adding the average rating by user\n",
    "df_ratings['avg_rating'] = df_ratings.ratings.apply(lambda x: mean(x))"
   ]
  },
  {
   "cell_type": "code",
   "execution_count": 17,
   "id": "01b3cdee-ff81-4fe0-9cbc-bcc52b0d33c9",
   "metadata": {},
   "outputs": [
    {
     "data": {
      "text/plain": [
       "(4.904674859116564, 4.920778916079674, 4.880167350895198)"
      ]
     },
     "execution_count": 17,
     "metadata": {},
     "output_type": "execute_result"
    }
   ],
   "source": [
    "overall_avg = df_ratings.avg_rating.mean()\n",
    "stb_avg = df_ratings[df_ratings[\"ratingType\"] == 'SellerToBuyer'].avg_rating.mean()\n",
    "bts_avg = df_ratings[df_ratings[\"ratingType\"] == 'BuyerToSeller'].avg_rating.mean()\n",
    "\n",
    "overall_avg, stb_avg, bts_avg"
   ]
  },
  {
   "cell_type": "markdown",
   "id": "408aae67-68b4-48fd-99e6-e4f90982c800",
   "metadata": {},
   "source": [
    "The average rating in 4.90 overall. \\\n",
    "Looking at rating type level, the average rating for the SellerToBuyer group is 4.92 and 4.88 for the BuyerToSeller group. "
   ]
  },
  {
   "cell_type": "code",
   "execution_count": 18,
   "id": "08e66252-f0d3-4a6e-b175-4db8a4a94fa6",
   "metadata": {},
   "outputs": [
    {
     "data": {
      "text/html": [
       "<div>\n",
       "<style scoped>\n",
       "    .dataframe tbody tr th:only-of-type {\n",
       "        vertical-align: middle;\n",
       "    }\n",
       "\n",
       "    .dataframe tbody tr th {\n",
       "        vertical-align: top;\n",
       "    }\n",
       "\n",
       "    .dataframe thead th {\n",
       "        text-align: right;\n",
       "    }\n",
       "</style>\n",
       "<table border=\"1\" class=\"dataframe\">\n",
       "  <thead>\n",
       "    <tr style=\"text-align: right;\">\n",
       "      <th></th>\n",
       "      <th>ratingType</th>\n",
       "      <th>ratings</th>\n",
       "    </tr>\n",
       "  </thead>\n",
       "  <tbody>\n",
       "    <tr>\n",
       "      <th>0</th>\n",
       "      <td>SellerToBuyer</td>\n",
       "      <td>5.0</td>\n",
       "    </tr>\n",
       "    <tr>\n",
       "      <th>1</th>\n",
       "      <td>SellerToBuyer</td>\n",
       "      <td>5.0</td>\n",
       "    </tr>\n",
       "    <tr>\n",
       "      <th>2</th>\n",
       "      <td>SellerToBuyer</td>\n",
       "      <td>5.0</td>\n",
       "    </tr>\n",
       "    <tr>\n",
       "      <th>3</th>\n",
       "      <td>SellerToBuyer</td>\n",
       "      <td>5.0</td>\n",
       "    </tr>\n",
       "    <tr>\n",
       "      <th>4</th>\n",
       "      <td>SellerToBuyer</td>\n",
       "      <td>5.0</td>\n",
       "    </tr>\n",
       "  </tbody>\n",
       "</table>\n",
       "</div>"
      ],
      "text/plain": [
       "      ratingType  ratings\n",
       "0  SellerToBuyer      5.0\n",
       "1  SellerToBuyer      5.0\n",
       "2  SellerToBuyer      5.0\n",
       "3  SellerToBuyer      5.0\n",
       "4  SellerToBuyer      5.0"
      ]
     },
     "execution_count": 18,
     "metadata": {},
     "output_type": "execute_result"
    }
   ],
   "source": [
    "#Let's create a dataframe with all the rating by user and rating type\n",
    "flatdata = pd.DataFrame([(index, value) for (index, values)\n",
    "    in df_ratings['ratings'].iteritems() for value in values],\n",
    "    columns=['index', 'ratings']).set_index('index')\n",
    "flat_df = df_ratings[['ratingType']].join(flatdata)\n",
    "\n",
    "#resetting the index\n",
    "flat_df = flat_df.reset_index(drop=True)\n",
    "flat_df.head()"
   ]
  },
  {
   "cell_type": "code",
   "execution_count": 23,
   "id": "254c44b3-0a2c-43cf-a1dd-5e23c730db4a",
   "metadata": {},
   "outputs": [
    {
     "data": {
      "text/plain": [
       "1.0    0.011114\n",
       "2.0    0.002375\n",
       "3.0    0.006672\n",
       "4.0    0.028970\n",
       "5.0    0.950870\n",
       "Name: ratings, dtype: float64"
      ]
     },
     "execution_count": 23,
     "metadata": {},
     "output_type": "execute_result"
    }
   ],
   "source": [
    "flat_df['ratings'].value_counts(normalize=True).head(10).sort_index()"
   ]
  },
  {
   "cell_type": "code",
   "execution_count": null,
   "id": "d7572745-4ed0-44b1-a552-e0f0a72fff94",
   "metadata": {},
   "outputs": [
    {
     "data": {
      "text/plain": [
       "1.0    0.007767\n",
       "2.0    0.001870\n",
       "3.0    0.005812\n",
       "4.0    0.030063\n",
       "5.0    0.954489\n",
       "Name: ratings, dtype: float64"
      ]
     },
     "execution_count": 25,
     "metadata": {},
     "output_type": "execute_result"
    }
   ],
   "source": [
    "flat_df[flat_df['ratingType']=='SellerToBuyer'].ratings.value_counts(normalize=True).sort_index()"
   ]
  },
  {
   "cell_type": "code",
   "execution_count": 27,
   "id": "a17d1d28-f42f-4da0-be23-faeaddedec2d",
   "metadata": {},
   "outputs": [
    {
     "data": {
      "text/plain": [
       "1.0    0.016213\n",
       "2.0    0.003144\n",
       "3.0    0.007983\n",
       "4.0    0.027304\n",
       "5.0    0.945356\n",
       "Name: ratings, dtype: float64"
      ]
     },
     "execution_count": 27,
     "metadata": {},
     "output_type": "execute_result"
    }
   ],
   "source": [
    "flat_df[flat_df['ratingType']=='BuyerToSeller'].ratings.value_counts(normalize=True).sort_index()"
   ]
  },
  {
   "cell_type": "code",
   "execution_count": 20,
   "id": "376499ce-0d59-4c67-bf4b-5ea188790c7d",
   "metadata": {},
   "outputs": [
    {
     "name": "stderr",
     "output_type": "stream",
     "text": [
      "No artists with labels found to put in legend.  Note that artists whose label start with an underscore are ignored when legend() is called with no argument.\n"
     ]
    },
    {
     "data": {
      "image/png": "[encoded data removed]",
      "text/plain": [
       "<Figure size 1800x720 with 2 Axes>"
      ]
     },
     "metadata": {
      "needs_background": "light"
     },
     "output_type": "display_data"
    }
   ],
   "source": [
    "# Let's plot the ratings distribution, overall and for each type group\n",
    "plt.figure(figsize=(25, 10))\n",
    "\n",
    "plt.subplot(1, 2, 1)\n",
    "plt.title('Ratings - distribution')\n",
    "sns.histplot(data= flat_df.ratings, stat = 'percent', bins=5, binwidth=1, discrete = True);\n",
    "\n",
    "plt.subplot(1, 2, 2)\n",
    "plt.title('Ratings by type -  distribution')\n",
    "sns.histplot(x=flat_df.ratings, hue='ratingType', data=flat_df, stat= 'percent',bins=5, binwidth=1, discrete = True, common_norm= False, multiple=\"dodge\");\n",
    "\n",
    "plt.legend( loc=4);"
   ]
  },
  {
   "cell_type": "code",
   "execution_count": null,
   "id": "87adffe0-f211-4b89-84e1-3938c2759bd2",
   "metadata": {},
   "outputs": [],
   "source": []
  }
 ],
 "metadata": {
  "kernelspec": {
   "display_name": "Python 3 (ipykernel)",
   "language": "python",
   "name": "python3"
  },
  "language_info": {
   "codemirror_mode": {
    "name": "ipython",
    "version": 3
   },
   "file_extension": ".py",
   "mimetype": "text/x-python",
   "name": "python",
   "nbconvert_exporter": "python",
   "pygments_lexer": "ipython3",
   "version": "3.8.12"
  }
 },
 "nbformat": 4,
 "nbformat_minor": 5
}
